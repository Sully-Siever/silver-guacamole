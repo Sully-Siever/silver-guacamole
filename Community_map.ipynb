{
  "nbformat": 4,
  "nbformat_minor": 0,
  "metadata": {
    "colab": {
      "provenance": []
    },
    "kernelspec": {
      "name": "python3",
      "display_name": "Python 3"
    },
    "language_info": {
      "name": "python"
    }
  },
  "cells": [
    {
      "cell_type": "code",
      "execution_count": null,
      "metadata": {
        "id": "6ZQRr86uNL90"
      },
      "outputs": [],
      "source": [
        "# Import necessary packages\n",
        "import os \n",
        "import folium\n",
        "from folium import plugins\n",
        "import requests\n",
        "import re"
      ]
    },
    {
      "cell_type": "code",
      "source": [
        "SelectRegion = 'World' #@param [\"World\", \"Ukraine\", \"Israel/Palestine\"]\n",
        "print(SelectRegion)"
      ],
      "metadata": {
        "colab": {
          "base_uri": "https://localhost:8080/"
        },
        "id": "8rtUxS9uPeuk",
        "outputId": "4bdcd699-5c23-45d8-f985-1f071d5428fa"
      },
      "execution_count": null,
      "outputs": [
        {
          "output_type": "stream",
          "name": "stdout",
          "text": [
            "World\n"
          ]
        }
      ]
    },
    {
      "cell_type": "code",
      "source": [
        "if SelectRegion == \"World\":\n",
        "  location = [30, 31]\n",
        "elif SelectRegion == \"Ukraine\":\n",
        "  location = [49, 32]\n",
        "elif SelectRegion == \"Israel/Palestine\":\n",
        "  location = [31.783333, 35.216667]\n",
        "\n",
        "m = folium.Map(location, tiles = \"https://clarity.maptiles.arcgis.com/arcgis/rest/services/World_Imagery/MapServer/wmts/tile/1.0.0/World_Imagery/default/GoogleMapsCompatible/{z}/{y}/{x}.jpg\", attr = ' ')"
      ],
      "metadata": {
        "id": "Ja2U-FnyO3hU"
      },
      "execution_count": null,
      "outputs": []
    },
    {
      "cell_type": "code",
      "source": [
        "#add markers from gihub\n",
        "MarkerFile = \"https://raw.githubusercontent.com/Sully-Siever/silver-guacamole/main/Markers.txt\"\n",
        "r = requests.get(MarkerFile)\n",
        "for i in r.text.split('\\n'):\n",
        "  pattern = r\"^([\\w\\s]+)\\[(-?\\d+\\.\\d+),\\s*(-?\\d+\\.\\d+)\\]$\"\n",
        "  match = re.search(pattern, i)\n",
        "  if match:\n",
        "    text = match.group(1)\n",
        "    lat = float(match.group(2))\n",
        "    lon = float(match.group(3))\n",
        "  \n",
        "  folium.Marker([lat, lon], popup=\"<i>\" + text + \"</i>\").add_to(m)\n",
        "\n",
        "#display map\n",
        "m"
      ],
      "metadata": {
        "colab": {
          "base_uri": "https://localhost:8080/",
          "height": 1000
        },
        "id": "__K4ohFUW9gg",
        "outputId": "85110cb5-116d-40d8-f102-8e152c5f0780"
      },
      "execution_count": null,
      "outputs": [
        {
          "output_type": "execute_result",
          "data": {
            "text/plain": [
              "<folium.folium.Map at 0x7ffbabe239a0>"
            ],
            "text/html": [
              "<div style=\"width:100%;\"><div style=\"position:relative;width:100%;height:0;padding-bottom:60%;\"><span style=\"color:#565656\">Make this Notebook Trusted to load map: File -> Trust Notebook</span><iframe srcdoc=\"&lt;!DOCTYPE html&gt;\n",
              "&lt;html&gt;\n",
              "&lt;head&gt;\n",
              "    \n",
              "    &lt;meta http-equiv=&quot;content-type&quot; content=&quot;text/html; charset=UTF-8&quot; /&gt;\n",
              "    \n",
              "        &lt;script&gt;\n",
              "            L_NO_TOUCH = false;\n",
              "            L_DISABLE_3D = false;\n",
              "        &lt;/script&gt;\n",
              "    \n",
              "    &lt;style&gt;html, body {width: 100%;height: 100%;margin: 0;padding: 0;}&lt;/style&gt;\n",
              "    &lt;style&gt;#map {position:absolute;top:0;bottom:0;right:0;left:0;}&lt;/style&gt;\n",
              "    &lt;script src=&quot;https://cdn.jsdelivr.net/npm/leaflet@1.9.3/dist/leaflet.js&quot;&gt;&lt;/script&gt;\n",
              "    &lt;script src=&quot;https://code.jquery.com/jquery-1.12.4.min.js&quot;&gt;&lt;/script&gt;\n",
              "    &lt;script src=&quot;https://cdn.jsdelivr.net/npm/bootstrap@5.2.2/dist/js/bootstrap.bundle.min.js&quot;&gt;&lt;/script&gt;\n",
              "    &lt;script src=&quot;https://cdnjs.cloudflare.com/ajax/libs/Leaflet.awesome-markers/2.0.2/leaflet.awesome-markers.js&quot;&gt;&lt;/script&gt;\n",
              "    &lt;link rel=&quot;stylesheet&quot; href=&quot;https://cdn.jsdelivr.net/npm/leaflet@1.9.3/dist/leaflet.css&quot;/&gt;\n",
              "    &lt;link rel=&quot;stylesheet&quot; href=&quot;https://cdn.jsdelivr.net/npm/bootstrap@5.2.2/dist/css/bootstrap.min.css&quot;/&gt;\n",
              "    &lt;link rel=&quot;stylesheet&quot; href=&quot;https://netdna.bootstrapcdn.com/bootstrap/3.0.0/css/bootstrap.min.css&quot;/&gt;\n",
              "    &lt;link rel=&quot;stylesheet&quot; href=&quot;https://cdn.jsdelivr.net/npm/@fortawesome/fontawesome-free@6.2.0/css/all.min.css&quot;/&gt;\n",
              "    &lt;link rel=&quot;stylesheet&quot; href=&quot;https://cdnjs.cloudflare.com/ajax/libs/Leaflet.awesome-markers/2.0.2/leaflet.awesome-markers.css&quot;/&gt;\n",
              "    &lt;link rel=&quot;stylesheet&quot; href=&quot;https://cdn.jsdelivr.net/gh/python-visualization/folium/folium/templates/leaflet.awesome.rotate.min.css&quot;/&gt;\n",
              "    \n",
              "            &lt;meta name=&quot;viewport&quot; content=&quot;width=device-width,\n",
              "                initial-scale=1.0, maximum-scale=1.0, user-scalable=no&quot; /&gt;\n",
              "            &lt;style&gt;\n",
              "                #map_e8da68266f17e0e5f794444bac3d223c {\n",
              "                    position: relative;\n",
              "                    width: 100.0%;\n",
              "                    height: 100.0%;\n",
              "                    left: 0.0%;\n",
              "                    top: 0.0%;\n",
              "                }\n",
              "                .leaflet-container { font-size: 1rem; }\n",
              "            &lt;/style&gt;\n",
              "        \n",
              "&lt;/head&gt;\n",
              "&lt;body&gt;\n",
              "    \n",
              "    \n",
              "            &lt;div class=&quot;folium-map&quot; id=&quot;map_e8da68266f17e0e5f794444bac3d223c&quot; &gt;&lt;/div&gt;\n",
              "        \n",
              "&lt;/body&gt;\n",
              "&lt;script&gt;\n",
              "    \n",
              "    \n",
              "            var map_e8da68266f17e0e5f794444bac3d223c = L.map(\n",
              "                &quot;map_e8da68266f17e0e5f794444bac3d223c&quot;,\n",
              "                {\n",
              "                    center: [30.0, 31.0],\n",
              "                    crs: L.CRS.EPSG3857,\n",
              "                    zoom: 10,\n",
              "                    zoomControl: true,\n",
              "                    preferCanvas: false,\n",
              "                }\n",
              "            );\n",
              "\n",
              "            \n",
              "\n",
              "        \n",
              "    \n",
              "            var tile_layer_0ed4e92aa8ae7a86438224e3f66d6d7e = L.tileLayer(\n",
              "                &quot;https://clarity.maptiles.arcgis.com/arcgis/rest/services/World_Imagery/MapServer/wmts/tile/1.0.0/World_Imagery/default/GoogleMapsCompatible/{z}/{y}/{x}.jpg&quot;,\n",
              "                {&quot;attribution&quot;: &quot; &quot;, &quot;detectRetina&quot;: false, &quot;maxNativeZoom&quot;: 18, &quot;maxZoom&quot;: 18, &quot;minZoom&quot;: 0, &quot;noWrap&quot;: false, &quot;opacity&quot;: 1, &quot;subdomains&quot;: &quot;abc&quot;, &quot;tms&quot;: false}\n",
              "            ).addTo(map_e8da68266f17e0e5f794444bac3d223c);\n",
              "        \n",
              "    \n",
              "            var marker_f9556c68e2f3b9d86ee0266ba095d7e4 = L.marker(\n",
              "                [31.55842495968673, 34.5435847588294],\n",
              "                {}\n",
              "            ).addTo(map_e8da68266f17e0e5f794444bac3d223c);\n",
              "        \n",
              "    \n",
              "        var popup_5a08519ba190f9c1f25a3873213a426d = L.popup({&quot;maxWidth&quot;: &quot;100%&quot;});\n",
              "\n",
              "        \n",
              "            \n",
              "                var html_c9a5d22aa1f1bbf8d5f37224f643577f = $(`&lt;div id=&quot;html_c9a5d22aa1f1bbf8d5f37224f643577f&quot; style=&quot;width: 100.0%; height: 100.0%;&quot;&gt;&lt;i&gt;Erez Crossing &lt;/i&gt;&lt;/div&gt;`)[0];\n",
              "                popup_5a08519ba190f9c1f25a3873213a426d.setContent(html_c9a5d22aa1f1bbf8d5f37224f643577f);\n",
              "            \n",
              "        \n",
              "\n",
              "        marker_f9556c68e2f3b9d86ee0266ba095d7e4.bindPopup(popup_5a08519ba190f9c1f25a3873213a426d)\n",
              "        ;\n",
              "\n",
              "        \n",
              "    \n",
              "    \n",
              "            var marker_b8f6365a87dd3befdcde70da78bb69e3 = L.marker(\n",
              "                [32.08, 34.78],\n",
              "                {}\n",
              "            ).addTo(map_e8da68266f17e0e5f794444bac3d223c);\n",
              "        \n",
              "    \n",
              "        var popup_3bc13c43deb22320da2f6b246a6350f5 = L.popup({&quot;maxWidth&quot;: &quot;100%&quot;});\n",
              "\n",
              "        \n",
              "            \n",
              "                var html_46884172cfe4fd37980b7e5d0fb993aa = $(`&lt;div id=&quot;html_46884172cfe4fd37980b7e5d0fb993aa&quot; style=&quot;width: 100.0%; height: 100.0%;&quot;&gt;&lt;i&gt;Tel Aviv &lt;/i&gt;&lt;/div&gt;`)[0];\n",
              "                popup_3bc13c43deb22320da2f6b246a6350f5.setContent(html_46884172cfe4fd37980b7e5d0fb993aa);\n",
              "            \n",
              "        \n",
              "\n",
              "        marker_b8f6365a87dd3befdcde70da78bb69e3.bindPopup(popup_3bc13c43deb22320da2f6b246a6350f5)\n",
              "        ;\n",
              "\n",
              "        \n",
              "    \n",
              "    \n",
              "            var marker_5a7378d447ae8d0f0cb556f937c736e8 = L.marker(\n",
              "                [32.08, 34.78],\n",
              "                {}\n",
              "            ).addTo(map_e8da68266f17e0e5f794444bac3d223c);\n",
              "        \n",
              "    \n",
              "        var popup_984722d4812296e4177cb5e6a7e52ade = L.popup({&quot;maxWidth&quot;: &quot;100%&quot;});\n",
              "\n",
              "        \n",
              "            \n",
              "                var html_2a8ed717c23c49a10e4781c88d8d114e = $(`&lt;div id=&quot;html_2a8ed717c23c49a10e4781c88d8d114e&quot; style=&quot;width: 100.0%; height: 100.0%;&quot;&gt;&lt;i&gt;Tel Aviv &lt;/i&gt;&lt;/div&gt;`)[0];\n",
              "                popup_984722d4812296e4177cb5e6a7e52ade.setContent(html_2a8ed717c23c49a10e4781c88d8d114e);\n",
              "            \n",
              "        \n",
              "\n",
              "        marker_5a7378d447ae8d0f0cb556f937c736e8.bindPopup(popup_984722d4812296e4177cb5e6a7e52ade)\n",
              "        ;\n",
              "\n",
              "        \n",
              "    \n",
              "&lt;/script&gt;\n",
              "&lt;/html&gt;\" style=\"position:absolute;width:100%;height:100%;left:0;top:0;border:none !important;\" allowfullscreen webkitallowfullscreen mozallowfullscreen></iframe></div></div>"
            ]
          },
          "metadata": {},
          "execution_count": 87
        }
      ]
    }
  ]
}